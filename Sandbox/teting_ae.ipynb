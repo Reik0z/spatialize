{
 "cells": [
  {
   "cell_type": "code",
   "execution_count": 1,
   "source": [
    "%matplotlib inline\n",
    "\n",
    "import numpy as np\n",
    "from matplotlib import pyplot as plt\n",
    "\n",
    "import spatialize.gs.esi.aggfunction as af\n",
    "import spatialize.gs.esi.precfunction as pf\n",
    "from spatialize import logging\n",
    "from spatialize.gs.esi import esi_griddata"
   ],
   "metadata": {
    "collapsed": false,
    "ExecuteTime": {
     "end_time": "2024-08-21T21:38:33.285061Z",
     "start_time": "2024-08-21T21:38:32.033315Z"
    }
   },
   "id": "972c7da6413f1f2a",
   "outputs": []
  },
  {
   "cell_type": "code",
   "execution_count": 2,
   "source": [
    "#logging.log.setLevel(\"DEBUG\")\n",
    "\n",
    "\n",
    "def func(x, y):  # a kind of \"cubic\" function\n",
    "    return x * (1 - x) * np.cos(4 * np.pi * x) * np.sin(4 * np.pi * y ** 2) ** 2\n",
    "\n",
    "\n",
    "grid_x, grid_y = np.mgrid[0:1:100j, 0:1:200j]\n",
    "\n",
    "rng = np.random.default_rng()\n",
    "points = rng.random((1000, 2))\n",
    "values = func(points[:, 0], points[:, 1])"
   ],
   "metadata": {
    "collapsed": false,
    "ExecuteTime": {
     "end_time": "2024-08-21T21:38:33.629221Z",
     "start_time": "2024-08-21T21:38:33.595861Z"
    }
   },
   "id": "48dcd9e211c97f0d",
   "outputs": []
  },
  {
   "cell_type": "code",
   "execution_count": 3,
   "source": [
    "result = esi_griddata(points, values, (grid_x, grid_y),\n",
    "                      local_interpolator=\"idw\",\n",
    "                      p_process=\"mondrian\",\n",
    "                      data_cond=False,\n",
    "                      exponent=1.0,\n",
    "                      n_partitions=500, alpha=0.985,\n",
    "                      agg_function=af.mean\n",
    "                      )"
   ],
   "metadata": {
    "collapsed": false,
    "ExecuteTime": {
     "end_time": "2024-08-21T21:38:51.210299Z",
     "start_time": "2024-08-21T21:38:37.342024Z"
    }
   },
   "id": "2e3261ece3b5b6d3",
   "outputs": []
  },
  {
   "cell_type": "code",
   "execution_count": 4,
   "source": [
    "res=np.ma.array(result.esi_samples(), fill_value=0, mask=np.isnan(result.esi_samples())).filled()"
   ],
   "metadata": {
    "collapsed": false,
    "ExecuteTime": {
     "end_time": "2024-08-21T21:11:17.377169Z",
     "start_time": "2024-08-21T21:11:17.339216Z"
    }
   },
   "id": "c880a84fef347fec",
   "outputs": []
  },
  {
   "cell_type": "code",
   "execution_count": 5,
   "source": [
    "grid_cmap, prec_cmap = 'coolwarm', 'bwr'\n",
    "\n",
    "fig = plt.figure(dpi=150)\n",
    "gs = fig.add_gridspec(2, 2, wspace=0.3, hspace=0.47)\n",
    "(ax1, ax2) = gs.subplots()\n",
    "ax1, ax2, ax3, ax4 = ax1[0], ax1[1], ax2[0], ax2[1]\n",
    "\n",
    "dirichlet_weighted_average = af.WeightedAverage()\n",
    "est_1 = result.re_estimate(dirichlet_weighted_average) \n",
    "\n",
    "ax1.imshow(est_1.T, extent=(0, 1, 0, 1), origin='lower', cmap=grid_cmap)\n",
    "ax1.set_title(\"est_1\")\n",
    "\n",
    "op_error = pf.OperationalErrorPrecision(np.abs(np.nanmin(result.esi_samples()) - np.nanmax(result.esi_samples())))\n",
    "\n",
    "result.precision(op_error)\n",
    "result.plot_precision(ax=ax3, cmap=prec_cmap)\n",
    "ax3.set_title('op error est_1')\n",
    "ax3.plot(points[:, 0], points[:, 1], 'y.', ms=0.5)\n",
    "\n",
    "# second estimation\n",
    "dirichlet_weighted_average = af.WeightedAverage(normalize=True)\n",
    "est_2 = result.re_estimate(dirichlet_weighted_average)\n",
    "\n",
    "ax2.imshow(est_2.T, extent=(0, 1, 0, 1), origin='lower', cmap=grid_cmap)\n",
    "ax2.set_title(\"est_2\")\n",
    "\n",
    "op_error = pf.OperationalErrorPrecision(np.abs(np.nanmin(result.esi_samples()) - np.nanmax(result.esi_samples())))\n",
    "\n",
    "result.precision(op_error)\n",
    "result.plot_precision(ax=ax4, cmap=prec_cmap)\n",
    "ax4.set_title('op error est_2')\n",
    "ax4.plot(points[:, 0], points[:, 1], 'y.', ms=0.5)\n",
    "\n",
    "plt.show()"
   ],
   "metadata": {
    "collapsed": false,
    "ExecuteTime": {
     "end_time": "2024-08-21T21:11:27.586665Z",
     "start_time": "2024-08-21T21:11:26.627705Z"
    }
   },
   "id": "5e93d62ec537b606",
   "outputs": []
  },
  {
   "cell_type": "code",
   "execution_count": 4,
   "source": [
    "precision = result.precision_cube(pf.mse_bilateral)\n",
    "reshaped_precision = precision.reshape(result.esi_samples().shape)\n",
    "prec_def = np.ma.array(reshaped_precision, fill_value=0, mask=np.isnan(reshaped_precision)).filled()"
   ],
   "metadata": {
    "collapsed": false,
    "ExecuteTime": {
     "end_time": "2024-08-21T21:39:16.864959Z",
     "start_time": "2024-08-21T21:39:16.780561Z"
    }
   },
   "id": "a974fc2b5a62116e",
   "outputs": []
  },
  {
   "cell_type": "code",
   "execution_count": 5,
   "source": [
    "bill = af.Bilateral_Filter(prec_def)"
   ],
   "metadata": {
    "collapsed": false,
    "ExecuteTime": {
     "end_time": "2024-08-21T21:39:18.800067Z",
     "start_time": "2024-08-21T21:39:18.637305Z"
    }
   },
   "id": "79f7a0a65f38f173",
   "outputs": []
  },
  {
   "cell_type": "code",
   "execution_count": 7,
   "source": [
    "plt.imshow(bill.T)"
   ],
   "metadata": {
    "collapsed": false,
    "ExecuteTime": {
     "end_time": "2024-08-21T21:39:31.031262Z",
     "start_time": "2024-08-21T21:39:30.897814Z"
    }
   },
   "id": "b1cfe89850af4f56",
   "outputs": []
  },
  {
   "cell_type": "code",
   "execution_count": null,
   "source": [],
   "metadata": {
    "collapsed": false
   },
   "id": "cccd4448d4c0276c",
   "outputs": []
  }
 ],
 "metadata": {
  "kernelspec": {
   "display_name": "Python 3",
   "language": "python",
   "name": "python3"
  },
  "language_info": {
   "codemirror_mode": {
    "name": "ipython",
    "version": 2
   },
   "file_extension": ".py",
   "mimetype": "text/x-python",
   "name": "python",
   "nbconvert_exporter": "python",
   "pygments_lexer": "ipython2",
   "version": "2.7.6"
  }
 },
 "nbformat": 4,
 "nbformat_minor": 5
}
