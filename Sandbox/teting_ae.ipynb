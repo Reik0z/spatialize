{
 "cells": [
  {
   "cell_type": "code",
   "execution_count": 4,
   "source": [
    "%matplotlib inline\n",
    "\n",
    "import numpy as np\n",
    "import pandas as pd\n",
    "from matplotlib import pyplot as plt\n",
    "\n",
    "import spatialize.gs.esi.aggfunction as af\n",
    "import spatialize.gs.esi.lossfunction as lf\n",
    "from spatialize import logging\n",
    "from spatialize.gs.esi import esi_griddata"
   ],
   "metadata": {
    "collapsed": false,
    "ExecuteTime": {
     "end_time": "2024-12-19T16:17:08.317376Z",
     "start_time": "2024-12-19T16:17:07.427191Z"
    }
   },
   "id": "972c7da6413f1f2a",
   "outputs": []
  },
  {
   "cell_type": "code",
   "execution_count": 5,
   "source": [
    "#logging.log.setLevel(\"DEBUG\")\n",
    "\n",
    "\n",
    "def func(x, y):  # a kind of \"cubic\" function\n",
    "    return x * (1 - x) * np.cos(4 * np.pi * x) * np.sin(4 * np.pi * y ** 2) ** 2\n",
    "\n",
    "\n",
    "grid_x, grid_y = np.mgrid[0:1:100j, 0:1:200j]\n",
    "\n",
    "rng = np.random.default_rng()\n",
    "points = rng.random((1000, 2))\n",
    "values = func(points[:, 0], points[:, 1])"
   ],
   "metadata": {
    "collapsed": false,
    "ExecuteTime": {
     "end_time": "2024-11-05T17:59:54.210122Z",
     "start_time": "2024-11-05T17:59:54.051799Z"
    }
   },
   "id": "48dcd9e211c97f0d",
   "outputs": []
  },
  {
   "cell_type": "code",
   "execution_count": 16,
   "source": [
    "ds_points = pd.DataFrame({\"X\": points[:,1] * 100, \"Y\": points[:, 0] * 200})\n",
    "ds_points.(\"X\",\"Y\")"
   ],
   "metadata": {
    "collapsed": false,
    "ExecuteTime": {
     "end_time": "2024-11-05T18:07:09.983524Z",
     "start_time": "2024-11-05T18:07:09.865136Z"
    }
   },
   "id": "34bf65d65f70fd3b",
   "outputs": []
  },
  {
   "cell_type": "code",
   "execution_count": null,
   "source": [],
   "metadata": {
    "collapsed": false
   },
   "id": "618fc327b12933d6",
   "outputs": []
  },
  {
   "cell_type": "code",
   "execution_count": 3,
   "source": [
    "result = esi_griddata(points, values, (grid_x, grid_y),\n",
    "                      local_interpolator=\"idw\",\n",
    "                      p_process=\"mondrian\",\n",
    "                      data_cond=False,\n",
    "                      exponent=1.0,\n",
    "                      n_partitions=500, alpha=0.985,\n",
    "                      agg_function=af.mean\n",
    "                      )"
   ],
   "metadata": {
    "collapsed": false,
    "ExecuteTime": {
     "end_time": "2024-08-21T21:38:51.210299Z",
     "start_time": "2024-08-21T21:38:37.342024Z"
    }
   },
   "id": "2e3261ece3b5b6d3",
   "outputs": []
  },
  {
   "cell_type": "code",
   "execution_count": 4,
   "source": [
    "res=np.ma.array(result.esi_samples(), fill_value=0, mask=np.isnan(result.esi_samples())).filled()"
   ],
   "metadata": {
    "collapsed": false,
    "ExecuteTime": {
     "end_time": "2024-08-21T21:11:17.377169Z",
     "start_time": "2024-08-21T21:11:17.339216Z"
    }
   },
   "id": "c880a84fef347fec",
   "outputs": []
  },
  {
   "cell_type": "code",
   "execution_count": 5,
   "source": [
    "grid_cmap, prec_cmap = 'coolwarm', 'bwr'\n",
    "\n",
    "fig = plt.figure(dpi=150)\n",
    "gs = fig.add_gridspec(2, 2, wspace=0.3, hspace=0.47)\n",
    "(ax1, ax2) = gs.subplots()\n",
    "ax1, ax2, ax3, ax4 = ax1[0], ax1[1], ax2[0], ax2[1]\n",
    "\n",
    "dirichlet_weighted_average = af.WeightedAverage()\n",
    "est_1 = result.re_estimate(dirichlet_weighted_average) \n",
    "\n",
    "ax1.imshow(est_1.T, extent=(0, 1, 0, 1), origin='lower', cmap=grid_cmap)\n",
    "ax1.set_title(\"est_1\")\n",
    "\n",
    "op_error = pf.OperationalErrorPrecision(np.abs(np.nanmin(result.esi_samples()) - np.nanmax(result.esi_samples())))\n",
    "\n",
    "result.precision(op_error)\n",
    "result.plot_precision(ax=ax3, cmap=prec_cmap)\n",
    "ax3.set_title('op error est_1')\n",
    "ax3.plot(points[:, 0], points[:, 1], 'y.', ms=0.5)\n",
    "\n",
    "# second estimation\n",
    "dirichlet_weighted_average = af.WeightedAverage(normalize=True)\n",
    "est_2 = result.re_estimate(dirichlet_weighted_average)\n",
    "\n",
    "ax2.imshow(est_2.T, extent=(0, 1, 0, 1), origin='lower', cmap=grid_cmap)\n",
    "ax2.set_title(\"est_2\")\n",
    "\n",
    "op_error = pf.OperationalErrorPrecision(np.abs(np.nanmin(result.esi_samples()) - np.nanmax(result.esi_samples())))\n",
    "\n",
    "result.precision(op_error)\n",
    "result.plot_precision(ax=ax4, cmap=prec_cmap)\n",
    "ax4.set_title('op error est_2')\n",
    "ax4.plot(points[:, 0], points[:, 1], 'y.', ms=0.5)\n",
    "\n",
    "plt.show()"
   ],
   "metadata": {
    "collapsed": false,
    "ExecuteTime": {
     "end_time": "2024-08-21T21:11:27.586665Z",
     "start_time": "2024-08-21T21:11:26.627705Z"
    }
   },
   "id": "5e93d62ec537b606",
   "outputs": []
  },
  {
   "cell_type": "code",
   "execution_count": 4,
   "source": [
    "precision = result.precision_cube(pf.mse_bilateral)\n",
    "reshaped_precision = precision.reshape(result.esi_samples().shape)\n",
    "prec_def = np.ma.array(reshaped_precision, fill_value=0, mask=np.isnan(reshaped_precision)).filled()"
   ],
   "metadata": {
    "collapsed": false,
    "ExecuteTime": {
     "end_time": "2024-08-21T21:39:16.864959Z",
     "start_time": "2024-08-21T21:39:16.780561Z"
    }
   },
   "id": "a974fc2b5a62116e",
   "outputs": []
  },
  {
   "cell_type": "code",
   "execution_count": 5,
   "source": [
    "bill = af.Bilateral_Filter(prec_def)"
   ],
   "metadata": {
    "collapsed": false,
    "ExecuteTime": {
     "end_time": "2024-08-21T21:39:18.800067Z",
     "start_time": "2024-08-21T21:39:18.637305Z"
    }
   },
   "id": "79f7a0a65f38f173",
   "outputs": []
  },
  {
   "cell_type": "code",
   "execution_count": 7,
   "source": [
    "plt.imshow(bill.T)"
   ],
   "metadata": {
    "collapsed": false,
    "ExecuteTime": {
     "end_time": "2024-08-21T21:39:31.031262Z",
     "start_time": "2024-08-21T21:39:30.897814Z"
    }
   },
   "id": "b1cfe89850af4f56",
   "outputs": []
  },
  {
   "cell_type": "code",
   "execution_count": 2,
   "source": [
    "!pip install gstools"
   ],
   "metadata": {
    "collapsed": false,
    "ExecuteTime": {
     "end_time": "2024-12-10T20:14:06.455748Z",
     "start_time": "2024-12-10T20:14:02.451857Z"
    }
   },
   "id": "cccd4448d4c0276c",
   "outputs": []
  },
  {
   "cell_type": "code",
   "execution_count": 8,
   "source": [],
   "metadata": {
    "collapsed": false,
    "ExecuteTime": {
     "end_time": "2024-12-19T16:19:55.437107Z",
     "start_time": "2024-12-19T16:19:55.419866Z"
    }
   },
   "id": "fc53c612f6169334",
   "outputs": []
  },
  {
   "cell_type": "code",
   "execution_count": 34,
   "source": [
    "import numpy as np\n",
    "\n",
    "def spherical_model(h, nugget, sill, range_):\n",
    "    \"\"\"\n",
    "    Spherical variogram model for a single component.\n",
    "    \"\"\"\n",
    "    return np.piecewise(h, [h <= range_, h > range_], \n",
    "                        [lambda h: nugget + sill * (1.5 * h / range_ - 0.5 * (h / range_)**3),\n",
    "                         lambda h: nugget + sill])\n",
    "\n",
    "samples = pd.read_csv('../test/testdata/vario_cu_omni_esipaper.csv')\n",
    "\n",
    "Y=[spherical_model(samples['lags_1'].values, 0, 0.17, 95)+spherical_model(samples['lags_1'].values, 0, 0.14, 220), samples['lags_1'].values]\n",
    "\n",
    "plt.figure(dpi=150, figsize=(10, 10))\n",
    "plt.scatter(x=samples['lags_1'].values, y=samples['gamma_1'].values, c=samples['npairs_1'].values, cmap='bwr' )\n",
    "plt.plot(Y[1],Y[0])\n",
    "plt.show()"
   ],
   "metadata": {
    "collapsed": false,
    "ExecuteTime": {
     "end_time": "2024-12-19T18:38:35.174310Z",
     "start_time": "2024-12-19T18:38:35.088115Z"
    }
   },
   "id": "17203e36cca7be2c",
   "outputs": []
  },
  {
   "cell_type": "code",
   "execution_count": 2,
   "source": [
    "pip install pykrige"
   ],
   "metadata": {
    "collapsed": false,
    "ExecuteTime": {
     "end_time": "2025-01-03T20:39:26.408858Z",
     "start_time": "2025-01-03T20:39:23.767821Z"
    }
   },
   "id": "1ae2c5e8abecd75e",
   "outputs": [
    {
     "name": "stdout",
     "output_type": "stream",
     "text": [
      "Collecting pykrige\r\n",
      "  Obtaining dependency information for pykrige from https://files.pythonhosted.org/packages/ac/91/1282b2561a455eda659b481816771f722b3c68fad75506a5d4d70d0f1726/PyKrige-1.7.2-cp311-cp311-macosx_11_0_arm64.whl.metadata\r\n",
      "  Downloading PyKrige-1.7.2-cp311-cp311-macosx_11_0_arm64.whl.metadata (8.1 kB)\r\n",
      "Requirement already satisfied: numpy>=1.20.0 in /Users/alejandro/Software/anaconda3/lib/python3.11/site-packages (from pykrige) (1.24.3)\r\n",
      "Requirement already satisfied: scipy<2,>=1.1.0 in /Users/alejandro/Software/anaconda3/lib/python3.11/site-packages (from pykrige) (1.10.1)\r\n",
      "Downloading PyKrige-1.7.2-cp311-cp311-macosx_11_0_arm64.whl (212 kB)\r\n",
      "\u001B[2K   \u001B[90m━━━━━━━━━━━━━━━━━━━━━━━━━━━━━━━━━━━━━━━━\u001B[0m \u001B[32m212.7/212.7 kB\u001B[0m \u001B[31m10.4 MB/s\u001B[0m eta \u001B[36m0:00:00\u001B[0m\r\n",
      "\u001B[?25hInstalling collected packages: pykrige\r\n",
      "Successfully installed pykrige-1.7.2\r\n",
      "Note: you may need to restart the kernel to use updated packages.\n"
     ]
    }
   ]
  },
  {
   "cell_type": "code",
   "execution_count": null,
   "outputs": [],
   "source": [],
   "metadata": {
    "collapsed": false
   },
   "id": "8b8a402a7678da6"
  }
 ],
 "metadata": {
  "kernelspec": {
   "display_name": "Python 3",
   "language": "python",
   "name": "python3"
  },
  "language_info": {
   "codemirror_mode": {
    "name": "ipython",
    "version": 2
   },
   "file_extension": ".py",
   "mimetype": "text/x-python",
   "name": "python",
   "nbconvert_exporter": "python",
   "pygments_lexer": "ipython2",
   "version": "2.7.6"
  }
 },
 "nbformat": 4,
 "nbformat_minor": 5
}
