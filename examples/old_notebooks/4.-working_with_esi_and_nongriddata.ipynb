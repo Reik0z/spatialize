{
 "cells": [
  {
   "cell_type": "markdown",
   "source": [
    "# Working with non grid data"
   ],
   "metadata": {
    "collapsed": false
   }
  },
  {
   "cell_type": "code",
   "execution_count": 1,
   "metadata": {
    "collapsed": true,
    "ExecuteTime": {
     "end_time": "2023-11-14T20:30:37.781232Z",
     "start_time": "2023-11-14T20:30:34.618475Z"
    }
   },
   "source": [
    "import hvplot.xarray  # noqa: adds hvplot methods to xarray objects\n",
    "import hvplot\n",
    "hvplot.extension()"
   ],
   "outputs": []
  },
  {
   "cell_type": "code",
   "execution_count": 2,
   "source": [
    "import numpy as np\n",
    "import pandas as pd\n",
    "from spatialize.gs.esi import esi_hparams_search, esi_nongriddata\n",
    "import spatialize.gs.esi.aggfunction as af\n",
    "import spatialize.gs.esi.precfunction as pf\n",
    "import xarray as xr\n",
    "\n",
    "# the samples\n",
    "\n",
    "# NOTE: modify this to make it download the CSV from\n",
    "# the GitHub repo\n",
    "samples = pd.read_csv('../test/testdata/data.csv')\n",
    "with open('../test/testdata/grid.dat', 'r') as data:\n",
    "    lines = data.readlines()\n",
    "    lines = [l.strip().split() for l in lines[5:]]\n",
    "    aux = np.float32(lines)\n",
    "locations = pd.DataFrame(aux, columns=['X', 'Y', 'Z'])\n",
    "\n",
    "w, h = 300, 200"
   ],
   "metadata": {
    "collapsed": false,
    "ExecuteTime": {
     "end_time": "2023-11-14T20:30:44.136031Z",
     "start_time": "2023-11-14T20:30:43.447401Z"
    }
   },
   "outputs": []
  },
  {
   "cell_type": "code",
   "execution_count": 3,
   "source": [
    "points = samples[['x', 'y']].values\n",
    "values = samples[['cu']].values[:, 0]\n",
    "xi = locations[['X', 'Y']].values\n",
    "\n",
    "# operational error function for the observed dynamic range\n",
    "op_error_precision=pf.OpErrorPrecision(np.abs(np.min(values) - np.max(values)))\n",
    "\n",
    "# operational error function for the observed mean law\n",
    "# op_error_precision=pf.OpErrorPrecision(np.nanmean(values))"
   ],
   "metadata": {
    "collapsed": false,
    "ExecuteTime": {
     "end_time": "2023-11-14T20:30:46.411988Z",
     "start_time": "2023-11-14T20:30:46.389553Z"
    }
   },
   "outputs": []
  },
  {
   "cell_type": "code",
   "execution_count": 4,
   "source": [
    "b_params = esi_hparams_search(points, values, xi,\n",
    "                              base_interpolator=\"idw\", griddata=False, k=10,\n",
    "                              exponent=list(np.arange(1.0, 15.0, 1.0)),\n",
    "                              alpha=(0.5, 0.6, 0.8, 0.9, 0.95))\n",
    "b_params"
   ],
   "metadata": {
    "collapsed": false,
    "ExecuteTime": {
     "end_time": "2023-11-14T20:30:59.164441Z",
     "start_time": "2023-11-14T20:30:54.168386Z"
    }
   },
   "outputs": []
  },
  {
   "cell_type": "code",
   "execution_count": 7,
   "source": [
    "grid_z4, grid_z4p = esi_nongriddata(points, values, xi,\n",
    "                                    base_interpolator=\"idw\",\n",
    "                                    exponent=5.0,\n",
    "                                    n_partitions=100, alpha=0.8,\n",
    "                                    agg_function=af.mean, prec_function=op_error_precision)\n",
    "ds4 = xr.DataArray(grid_z4.reshape(w, h))\n",
    "ds4p = xr.DataArray(grid_z4p.reshape(w, h) * 100)\n",
    "\n",
    "fig = ds4.hvplot.image(title=\"esi idw\", width=w, height=h * 2, xlabel='X', ylabel='Y', cmap='bwr', clim=(0, 4.5))\n",
    "fig += ds4p.hvplot.image(title=\"esi idw UQ\", width=w, height=h * 2, xlabel='X', ylabel='Y', cmap='Spectral')\n",
    "fig"
   ],
   "metadata": {
    "collapsed": false,
    "ExecuteTime": {
     "end_time": "2023-11-14T20:34:04.647917Z",
     "start_time": "2023-11-14T20:33:52.348846Z"
    }
   },
   "outputs": []
  },
  {
   "cell_type": "code",
   "execution_count": 6,
   "source": [
    "b_params = esi_hparams_search(points, values, xi,\n",
    "                              base_interpolator=\"kriging\", griddata=False, k=10,\n",
    "                              model=[\"spherical\", \"exponential\", \"cubic\", \"gaussian\"],\n",
    "                              nugget=[0.0, 0.5, 1.0],\n",
    "                              range=[100.0, 500.0, 1000.0, 5000.0],\n",
    "                              alpha=list(np.flip(np.arange(0.90, 0.95, 0.01))))\n",
    "b_params"
   ],
   "metadata": {
    "collapsed": false,
    "ExecuteTime": {
     "end_time": "2023-11-14T20:33:18.653452Z",
     "start_time": "2023-11-14T20:31:49.004901Z"
    }
   },
   "outputs": []
  },
  {
   "cell_type": "code",
   "execution_count": 8,
   "source": [
    "grid_z4, grid_z4p = esi_nongriddata(points, values, xi,\n",
    "                                    base_interpolator=\"kriging\",\n",
    "                                    model=\"cubic\", nugget=0.0, range=1000.0,\n",
    "                                    n_partitions=100, alpha=0.93,\n",
    "                                    agg_function=af.median, prec_function=op_error_precision)\n",
    "ds4 = xr.DataArray(grid_z4.reshape(w, h))\n",
    "ds4p = xr.DataArray(grid_z4p.reshape(w, h) * 100)\n",
    "\n",
    "fig = ds4.hvplot.image(title=\"esi kriging\", width=w, height=h * 2, xlabel='X', ylabel='Y', cmap='bwr', clim=(0, 4.5))\n",
    "fig += ds4p.hvplot.image(title=\"esi kriging UQ\", width=w, height=h * 2, xlabel='X', ylabel='Y', cmap='Spectral')\n",
    "fig"
   ],
   "metadata": {
    "collapsed": false,
    "ExecuteTime": {
     "end_time": "2023-11-14T20:34:52.783113Z",
     "start_time": "2023-11-14T20:34:38.693528Z"
    }
   },
   "outputs": []
  }
 ],
 "metadata": {
  "kernelspec": {
   "display_name": "Python 3",
   "language": "python",
   "name": "python3"
  },
  "language_info": {
   "codemirror_mode": {
    "name": "ipython",
    "version": 2
   },
   "file_extension": ".py",
   "mimetype": "text/x-python",
   "name": "python",
   "nbconvert_exporter": "python",
   "pygments_lexer": "ipython2",
   "version": "2.7.6"
  }
 },
 "nbformat": 4,
 "nbformat_minor": 0
}
