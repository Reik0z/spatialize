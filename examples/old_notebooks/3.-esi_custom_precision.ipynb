{
 "cells": [
  {
   "cell_type": "markdown",
   "source": [
    "# Defining custom precision functions"
   ],
   "metadata": {
    "collapsed": false
   }
  },
  {
   "cell_type": "code",
   "execution_count": 2,
   "metadata": {
    "collapsed": true,
    "ExecuteTime": {
     "end_time": "2023-06-11T02:18:06.174823Z",
     "start_time": "2023-06-11T02:18:05.210964Z"
    }
   },
   "source": [
    "import hvplot.xarray  # noqa: adds hvplot methods to xarray objects\n",
    "import hvplot\n",
    "hvplot.extension()\n",
    "\n",
    "import numpy as np\n",
    "from spatialize.gs.esi.precfunction import apply_loss_function"
   ],
   "outputs": []
  },
  {
   "cell_type": "code",
   "execution_count": 4,
   "source": [
    "import spatialize.gs.esi.aggfunction as af\n",
    "from spatialize.gs.esi import esi_griddata\n",
    "import xarray as xr\n",
    "\n",
    "w, h = 500, 600"
   ],
   "metadata": {
    "collapsed": false,
    "ExecuteTime": {
     "end_time": "2023-06-11T02:18:10.719393Z",
     "start_time": "2023-06-11T02:18:10.662590Z"
    }
   },
   "outputs": []
  },
  {
   "cell_type": "code",
   "execution_count": 5,
   "source": [
    "import hvplot.pandas  # noqa\n",
    "import pandas\n",
    "\n",
    "def func(x, y):  # a kind of \"cubic\" function\n",
    "    return x * (1 - x) * np.cos(4 * np.pi * x) * np.sin(4 * np.pi * y ** 2) ** 2\n",
    "\n",
    "grid_x, grid_y = np.mgrid[0:1:100j, 0:1:200j]\n",
    "\n",
    "rng = np.random.default_rng()\n",
    "points = rng.random((1000, 2))\n",
    "values = func(points[:,0], points[:,1])\n",
    "\n",
    "ds = xr.DataArray(func(grid_x, grid_y).T)\n",
    "ds_points = pandas.DataFrame({\"X\": points[:,1] * 100, \"Y\": points[:, 0] * 200})"
   ],
   "metadata": {
    "collapsed": false,
    "ExecuteTime": {
     "end_time": "2023-06-11T02:18:13.066059Z",
     "start_time": "2023-06-11T02:18:13.006209Z"
    }
   },
   "outputs": []
  },
  {
   "cell_type": "code",
   "execution_count": 15,
   "source": [
    "def op_error_precision(estimation, esi_samples):\n",
    "    dyn_range = np.abs(np.min(estimation) - np.max(estimation))\n",
    "    def op_error(x, y):\n",
    "        return np.abs(x - y) / dyn_range\n",
    "    return apply_loss_function(estimation, esi_samples, op_error, af.mean)"
   ],
   "metadata": {
    "collapsed": false,
    "ExecuteTime": {
     "end_time": "2023-06-11T02:24:51.201352Z",
     "start_time": "2023-06-11T02:24:51.173808Z"
    }
   },
   "outputs": []
  },
  {
   "cell_type": "code",
   "execution_count": 12,
   "source": [
    "grid_z3, grid_z3p = esi_griddata(points, values, (grid_x, grid_y),\n",
    "                                 base_interpolator=\"idw\",\n",
    "                                 exponent=1.0,\n",
    "                                 n_partitions=1000, alpha=0.985,\n",
    "                                 agg_function=af.median, prec_function=op_error_precision)\n",
    "ds3 = xr.DataArray(grid_z3.T)\n",
    "ds3p = xr.DataArray(grid_z3p.T)\n",
    "\n",
    "fig = ds.hvplot.image(title=\"original\", width=w, height=h, xlabel='X', ylabel='Y')\n",
    "fig += ds3.hvplot.image(title=\"esi idw\", width=w, height=h, xlabel='X', ylabel='Y')\n",
    "fig += ds3p.hvplot.image(title=\"esi idw operational error\", width=w, height=h, xlabel='X', ylabel='Y', cmap='seismic') \\\n",
    "       * ds_points.hvplot.points(size=3.0, color=\"green\")\n",
    "fig"
   ],
   "metadata": {
    "collapsed": false,
    "ExecuteTime": {
     "end_time": "2023-06-11T02:23:45.972268Z",
     "start_time": "2023-06-11T02:23:44.006494Z"
    }
   },
   "outputs": []
  },
  {
   "cell_type": "code",
   "execution_count": 14,
   "source": [
    "grid_z4, grid_z4p = esi_griddata(points, values, (grid_x, grid_y),\n",
    "                                 base_interpolator=\"kriging\",\n",
    "                                 model=\"spherical\", nugget=0.0, range=10.0,\n",
    "                                 n_partitions=1000, alpha=0.95,\n",
    "                                 agg_function=af.median, prec_function=op_error_precision)\n",
    "ds4 = xr.DataArray(grid_z4.T)\n",
    "ds4p = xr.DataArray(grid_z4p.T)\n",
    "\n",
    "fig = ds.hvplot.image(title=\"original\", width=w, height=h, xlabel='X', ylabel='Y')\n",
    "fig += ds4.hvplot.image(title=\"esi kriging\", width=w, height=h, xlabel='X', ylabel='Y')\n",
    "fig += ds4p.hvplot.image(title=\"esi kriging operational error\", width=w, height=h, xlabel='X', ylabel='Y', cmap='seismic') \\\n",
    "       * ds_points.hvplot.points(size=3.0, color=\"green\")\n",
    "fig"
   ],
   "metadata": {
    "collapsed": false,
    "ExecuteTime": {
     "end_time": "2023-06-11T02:24:28.115033Z",
     "start_time": "2023-06-11T02:23:52.191020Z"
    }
   },
   "outputs": []
  }
 ],
 "metadata": {
  "kernelspec": {
   "display_name": "Python 3",
   "language": "python",
   "name": "python3"
  },
  "language_info": {
   "codemirror_mode": {
    "name": "ipython",
    "version": 2
   },
   "file_extension": ".py",
   "mimetype": "text/x-python",
   "name": "python",
   "nbconvert_exporter": "python",
   "pygments_lexer": "ipython2",
   "version": "2.7.6"
  }
 },
 "nbformat": 4,
 "nbformat_minor": 0
}
