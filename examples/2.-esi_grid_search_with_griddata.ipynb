{
 "cells": [
  {
   "cell_type": "markdown",
   "source": [
    "# Grid Search Cross-Validation\n",
    "\n",
    "Using the `esi_hparams_search` function you can search for the appropriate parameters for both `esi_griddata` and `esi_nongriddata`.\n",
    "\n",
    "The method used is `k-fold`. The `esi_hparams_search` function receives the integer parameter `k`, which is the cut-off for `k-fold`.  If `k` is equal to `-1` or equal to the number of points, `leave-one-out` is used. The rest of the parameters are identical to those received by `esi_griddata` and `esi_nongriddata` except that they must be lists containing the possible options for the search."
   ],
   "metadata": {
    "collapsed": false
   }
  },
  {
   "cell_type": "code",
   "execution_count": 2,
   "outputs": [
    {
     "name": "stdout",
     "output_type": "stream",
     "text": [
      "Intel MKL WARNING: Support of Intel(R) Streaming SIMD Extensions 4.2 (Intel(R) SSE4.2) enabled only processors has been deprecated. Intel oneAPI Math Kernel Library 2025.0 will require Intel(R) Advanced Vector Extensions (Intel(R) AVX) instructions.\n",
      "Intel MKL WARNING: Support of Intel(R) Streaming SIMD Extensions 4.2 (Intel(R) SSE4.2) enabled only processors has been deprecated. Intel oneAPI Math Kernel Library 2025.0 will require Intel(R) Advanced Vector Extensions (Intel(R) AVX) instructions.\n"
     ]
    }
   ],
   "source": [
    "from spatialize.gs.esi import esi_hparams_search\n",
    "import spatialize.gs.esi.aggfunction as af"
   ],
   "metadata": {
    "collapsed": false,
    "ExecuteTime": {
     "end_time": "2023-11-14T14:24:09.917193Z",
     "start_time": "2023-11-14T14:24:08.220766Z"
    }
   }
  },
  {
   "cell_type": "markdown",
   "source": [
    "## Synthetic data generation\n",
    "\n",
    "This example is taken from the documentation of the scipy griddata function ([here](https://docs.scipy.org/doc/scipy/reference/generated/scipy.interpolate.griddata.html))."
   ],
   "metadata": {
    "collapsed": false
   }
  },
  {
   "cell_type": "code",
   "execution_count": 3,
   "metadata": {
    "collapsed": true,
    "ExecuteTime": {
     "end_time": "2023-11-14T14:24:43.123921Z",
     "start_time": "2023-11-14T14:24:43.121701Z"
    }
   },
   "outputs": [],
   "source": [
    "import numpy as np\n",
    "def func(x, y):  # a kind of \"cubic\" function\n",
    "    return x * (1 - x) * np.cos(4 * np.pi * x) * np.sin(4 * np.pi * y ** 2) ** 2\n",
    "\n",
    "grid_x, grid_y = np.mgrid[0:1:100j, 0:1:200j]\n",
    "\n",
    "rng = np.random.default_rng()\n",
    "points = rng.random((1000, 2))\n",
    "values = func(points[:,0], points[:,1])"
   ]
  },
  {
   "cell_type": "markdown",
   "source": [
    "## Grid search cross-validation for kriging as the base interpolator"
   ],
   "metadata": {
    "collapsed": false
   }
  },
  {
   "cell_type": "code",
   "execution_count": 4,
   "outputs": [
    {
     "name": "stdout",
     "output_type": "stream",
     "text": [
      "kriging kfold\n"
     ]
    },
    {
     "name": "stderr",
     "output_type": "stream",
     "text": [
      "searching the grid: 100%|██████████| 144/144 [02:12<00:00,  1.09it/s]\n"
     ]
    },
    {
     "data": {
      "text/plain": "{'range': 10.0,\n 'nugget': 0.0,\n 'n_partitions': 30,\n 'model': 'spherical',\n 'alpha': 0.95,\n 'agg_function': <function spatialize.gs.esi.aggfunction.median(values)>,\n 'base_interpolator': 'kriging'}"
     },
     "execution_count": 4,
     "metadata": {},
     "output_type": "execute_result"
    }
   ],
   "source": [
    "b_params = esi_hparams_search(points, values, (grid_x, grid_y),\n",
    "                              base_interpolator=\"kriging\", griddata=True, k=10,\n",
    "                              model=[\"spherical\", \"exponential\", \"cubic\", \"gaussian\"],\n",
    "                              nugget=[0.0, 0.5, 1.0],\n",
    "                              range=[10.0, 50.0, 100.0, 200.0],\n",
    "                              alpha=list(np.flip(np.arange(0.95, 0.97, 0.01))))\n",
    "b_params"
   ],
   "metadata": {
    "collapsed": false,
    "ExecuteTime": {
     "end_time": "2023-11-13T20:48:51.372399Z",
     "start_time": "2023-11-13T20:46:38.897562Z"
    }
   }
  },
  {
   "cell_type": "markdown",
   "source": [
    "## Grid search cross-validation for IDW as the base interpolator\n"
   ],
   "metadata": {
    "collapsed": false
   }
  },
  {
   "cell_type": "markdown",
   "source": [
    "### Starting with a broad search"
   ],
   "metadata": {
    "collapsed": false
   }
  },
  {
   "cell_type": "code",
   "execution_count": 5,
   "outputs": [
    {
     "name": "stdout",
     "output_type": "stream",
     "text": [
      "idw kfold\n"
     ]
    },
    {
     "name": "stderr",
     "output_type": "stream",
     "text": [
      "searching the grid: 100%|██████████| 70/70 [00:37<00:00,  1.87it/s]\n"
     ]
    },
    {
     "data": {
      "text/plain": "{'n_partitions': 100,\n 'exponent': 1.0,\n 'alpha': 0.95,\n 'agg_function': <function spatialize.gs.esi.aggfunction.median(values)>,\n 'base_interpolator': 'idw'}"
     },
     "execution_count": 5,
     "metadata": {},
     "output_type": "execute_result"
    }
   ],
   "source": [
    "b_params = esi_hparams_search(points, values, (grid_x, grid_y),\n",
    "                              base_interpolator=\"idw\", griddata=True, k=10,\n",
    "                              exponent=list(np.arange(1.0, 15.0, 1.0)),\n",
    "                              alpha=(0.5, 0.6, 0.8, 0.9, 0.95))\n",
    "b_params"
   ],
   "metadata": {
    "collapsed": false,
    "ExecuteTime": {
     "end_time": "2023-11-13T20:50:22.477590Z",
     "start_time": "2023-11-13T20:49:45.103719Z"
    }
   }
  },
  {
   "cell_type": "markdown",
   "source": [
    "### Now refining the search for `alpha` and the aggregation function"
   ],
   "metadata": {
    "collapsed": false
   }
  },
  {
   "cell_type": "code",
   "execution_count": 4,
   "outputs": [
    {
     "name": "stdout",
     "output_type": "stream",
     "text": [
      "idw kfold\n"
     ]
    },
    {
     "name": "stderr",
     "output_type": "stream",
     "text": [
      "searching the grid: 100%|██████████| 70/70 [01:54<00:00,  1.63s/it]\n"
     ]
    },
    {
     "data": {
      "text/plain": "{'n_partitions': 30,\n 'exponent': 1.0,\n 'alpha': 0.975,\n 'agg_function': <function spatialize.gs.esi.aggfunction.median(values)>,\n 'base_interpolator': 'idw'}"
     },
     "execution_count": 4,
     "metadata": {},
     "output_type": "execute_result"
    }
   ],
   "source": [
    "b_params = esi_hparams_search(points, values, (grid_x, grid_y),\n",
    "                              base_interpolator=\"idw\", griddata=True, k=10,\n",
    "                              exponent=list(np.arange(1.0, 15.0, 1.0)),\n",
    "                              alpha=(0.95, 0.96, 0.97, 0.975, 0.98),\n",
    "                              agg_function={\"mean\": af.mean,\n",
    "                                            \"median\": af.median,\n",
    "                                            \"p25\": af.Percentile(25),\n",
    "                                            \"p75\": af.Percentile(75)\n",
    "                                            })\n",
    "b_params"
   ],
   "metadata": {
    "collapsed": false,
    "ExecuteTime": {
     "end_time": "2023-11-14T14:27:00.834492Z",
     "start_time": "2023-11-14T14:25:06.463229Z"
    }
   }
  }
 ],
 "metadata": {
  "kernelspec": {
   "display_name": "Python 3",
   "language": "python",
   "name": "python3"
  },
  "language_info": {
   "codemirror_mode": {
    "name": "ipython",
    "version": 2
   },
   "file_extension": ".py",
   "mimetype": "text/x-python",
   "name": "python",
   "nbconvert_exporter": "python",
   "pygments_lexer": "ipython2",
   "version": "2.7.6"
  }
 },
 "nbformat": 4,
 "nbformat_minor": 0
}
