{
 "cells": [
  {
   "cell_type": "code",
   "execution_count": null,
   "metadata": {
    "collapsed": true
   },
   "outputs": [],
   "source": [
    "from spatialize.gs.esi import hparams_search, egriddata\n",
    "\n",
    "import hvplot.xarray  # noqa: adds hvplot methods to xarray objects\n",
    "import hvplot\n",
    "hvplot.extension()"
   ]
  },
  {
   "cell_type": "code",
   "execution_count": null,
   "metadata": {},
   "outputs": [],
   "source": [
    "import numpy as np\n",
    "def func(x, y):\n",
    "    return x * (1 - x) * np.cos(4 * np.pi * x) * np.sin(4 * np.pi * y ** 2) ** 2\n",
    "\n",
    "grid_x, grid_y = np.mgrid[0:1:100j, 0:1:200j]\n",
    "\n",
    "rng = np.random.default_rng()\n",
    "points = rng.random((1000, 2))\n",
    "values = func(points[:,0], points[:,1])"
   ]
  },
  {
   "cell_type": "code",
   "execution_count": null,
   "metadata": {},
   "outputs": [],
   "source": [
    "from scipy.interpolate import griddata\n",
    "grid_z0 = griddata(points, values, (grid_x, grid_y), method='nearest')\n",
    "grid_z1 = griddata(points, values, (grid_x, grid_y), method='linear')\n",
    "grid_z2 = griddata(points, values, (grid_x, grid_y), method='cubic')"
   ]
  },
  {
   "cell_type": "code",
   "execution_count": null,
   "metadata": {},
   "outputs": [],
   "source": [
    "import xarray as xr\n",
    "\n",
    "ds = xr.DataArray(func(grid_x, grid_y).T)\n",
    "ds0 = xr.DataArray(grid_z0.T)\n",
    "ds1 = xr.DataArray(grid_z1.T)\n",
    "ds2 = xr.DataArray(grid_z2.T)\n"
   ]
  },
  {
   "cell_type": "code",
   "execution_count": null,
   "metadata": {},
   "outputs": [],
   "source": [
    "w, h = 500, 600\n",
    "fig = ds.hvplot.image(title=\"original\", width=w, height=h, xlabel='X', ylabel='Y') + \\\n",
    "      ds0.hvplot.image(title=\"nearest\", width=w, height=h, xlabel='X', ylabel='Y') + \\\n",
    "      ds1.hvplot.image(title=\"linear\", width=w, height=h, xlabel='X', ylabel='Y') + \\\n",
    "      ds2.hvplot.image(title=\"cubic\", width=w, height=h, xlabel='X', ylabel='Y')\n",
    "fig.cols(2)"
   ]
  },
  {
   "cell_type": "code",
   "execution_count": null,
   "metadata": {},
   "outputs": [],
   "source": [
    "from spatialize.gs.esi import egriddata\n",
    "\n",
    "xi = np.column_stack((grid_x, grid_y))\n",
    "grid_z3 = egriddata(points, values, xi)\n",
    "\n",
    "print(points.shape)\n",
    "print(values.shape)\n",
    "print(xi.shape)"
   ]
  }
 ],
 "metadata": {
  "kernelspec": {
   "display_name": "Python 3 (ipykernel)",
   "language": "python",
   "name": "python3"
  },
  "language_info": {
   "codemirror_mode": {
    "name": "ipython",
    "version": 3
   },
   "file_extension": ".py",
   "mimetype": "text/x-python",
   "name": "python",
   "nbconvert_exporter": "python",
   "pygments_lexer": "ipython3",
   "version": "3.9.16"
  }
 },
 "nbformat": 4,
 "nbformat_minor": 1
}
